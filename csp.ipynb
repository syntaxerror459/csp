{
 "cells": [
  {
   "cell_type": "code",
   "execution_count": 1,
   "metadata": {},
   "outputs": [
    {
     "name": "stdout",
     "output_type": "stream",
     "text": [
      "False\n",
      "True\n"
     ]
    }
   ],
   "source": [
    "def colunm(array):\n",
    "    return zip(*array)\n",
    "\n",
    "def magic_square(m):\n",
    "    n= len(m)\n",
    "    row_sum = {sum(row) for row in m}\n",
    "    col_sum = {sum(col) for col in colunm(m)}\n",
    "    dig_sum = {\n",
    "        sum(m[i][i] for i in range(3)),\n",
    "        sum(m[i][-i-1] for i in range(3))\n",
    "    }\n",
    "    if(len(row_sum)==len(col_sum)==len(dig_sum)==1):\n",
    "        return True\n",
    "    else:\n",
    "        return False\n",
    "\n",
    "\n",
    "if __name__ == \"__main__\":\n",
    "    magic_square1= [\n",
    "                   [1,2,3],\n",
    "                   [4,5,6],\n",
    "                   [7,8,9]\n",
    "                            ]\n",
    "    magic_square2 = [\n",
    "                    [2,7,6],\n",
    "                    [9,5,1],\n",
    "                    [4,3,8]\n",
    "                            ]\n",
    "    print(magic_square(magic_square1))\n",
    "    print(magic_square(magic_square2))\n"
   ]
  },
  {
   "cell_type": "code",
   "execution_count": null,
   "metadata": {},
   "outputs": [],
   "source": []
  }
 ],
 "metadata": {
  "kernelspec": {
   "display_name": "Python 3.9.13 ('base')",
   "language": "python",
   "name": "python3"
  },
  "language_info": {
   "codemirror_mode": {
    "name": "ipython",
    "version": 3
   },
   "file_extension": ".py",
   "mimetype": "text/x-python",
   "name": "python",
   "nbconvert_exporter": "python",
   "pygments_lexer": "ipython3",
   "version": "3.9.13"
  },
  "orig_nbformat": 4,
  "vscode": {
   "interpreter": {
    "hash": "5b30f736e45932896a1a27b0973802247d41f5c6dfddee68ac14f4b5531b8d9e"
   }
  }
 },
 "nbformat": 4,
 "nbformat_minor": 2
}
